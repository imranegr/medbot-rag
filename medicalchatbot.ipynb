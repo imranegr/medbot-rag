{
 "cells": [
  {
   "cell_type": "code",
   "execution_count": 3,
   "id": "88e6db98",
   "metadata": {
    "execution": {
     "iopub.execute_input": "2025-05-03T16:56:51.791931Z",
     "iopub.status.busy": "2025-05-03T16:56:51.791267Z",
     "iopub.status.idle": "2025-05-03T16:56:51.795141Z",
     "shell.execute_reply": "2025-05-03T16:56:51.794387Z",
     "shell.execute_reply.started": "2025-05-03T16:56:51.791905Z"
    },
    "trusted": true
   },
   "outputs": [],
   "source": [
    " # !pip install streamlit langchain langchain-huggingface langchain-community python-dotenv sentence-transformers faiss-cpu\n"
   ]
  },
  {
   "cell_type": "code",
   "execution_count": 4,
   "id": "cc6a30a0",
   "metadata": {
    "execution": {
     "iopub.execute_input": "2025-05-03T16:56:51.796501Z",
     "iopub.status.busy": "2025-05-03T16:56:51.796285Z",
     "iopub.status.idle": "2025-05-03T16:56:53.011587Z",
     "shell.execute_reply": "2025-05-03T16:56:53.010868Z",
     "shell.execute_reply.started": "2025-05-03T16:56:51.796485Z"
    },
    "trusted": true
   },
   "outputs": [],
   "source": [
    "from langchain_community.document_loaders import PyPDFLoader, DirectoryLoader\n",
    "from langchain.text_splitter import RecursiveCharacterTextSplitter\n",
    "from langchain_huggingface import HuggingFaceEmbeddings\n",
    "from langchain_community.vectorstores import FAISS\n",
    "\n",
    "\n",
    "DATA_PATH=\"data/\"\n",
    "def load_pdf_files(data):\n",
    "    loader = DirectoryLoader(data,\n",
    "                             glob='*.pdf',\n",
    "                             loader_cls=PyPDFLoader)"
   ]
  },
  {
   "cell_type": "code",
   "execution_count": 5,
   "id": "093ca0e7",
   "metadata": {
    "execution": {
     "iopub.execute_input": "2025-05-03T16:56:53.012661Z",
     "iopub.status.busy": "2025-05-03T16:56:53.012288Z",
     "iopub.status.idle": "2025-05-03T17:20:57.087616Z",
     "shell.execute_reply": "2025-05-03T17:20:57.086839Z",
     "shell.execute_reply.started": "2025-05-03T16:56:53.012634Z"
    },
    "trusted": true
   },
   "outputs": [],
   "source": [
    "DATA_PATH=\"/kaggle/input/medicalbooks/Medical-Books-master\"\n",
    "def load_pdf_files(data):\n",
    "    loader = DirectoryLoader(data,\n",
    "                             glob='*.pdf',\n",
    "                             loader_cls=PyPDFLoader)\n",
    "    documents = loader.load()\n",
    "    return documents\n",
    "documents=load_pdf_files(data=DATA_PATH)\n",
    "\n"
   ]
  },
  {
   "cell_type": "code",
   "execution_count": 6,
   "id": "277040df",
   "metadata": {
    "execution": {
     "iopub.execute_input": "2025-05-03T17:20:57.088882Z",
     "iopub.status.busy": "2025-05-03T17:20:57.088483Z",
     "iopub.status.idle": "2025-05-03T17:20:57.092780Z",
     "shell.execute_reply": "2025-05-03T17:20:57.092156Z",
     "shell.execute_reply.started": "2025-05-03T17:20:57.088854Z"
    },
    "trusted": true
   },
   "outputs": [
    {
     "name": "stdout",
     "output_type": "stream",
     "text": [
      "Length of PDF pages:  46872\n"
     ]
    }
   ],
   "source": [
    "print(\"Length of PDF pages: \", len(documents))\n"
   ]
  },
  {
   "cell_type": "code",
   "execution_count": 7,
   "id": "4ab3aebe",
   "metadata": {
    "execution": {
     "iopub.execute_input": "2025-05-03T17:20:57.094476Z",
     "iopub.status.busy": "2025-05-03T17:20:57.094245Z",
     "iopub.status.idle": "2025-05-03T17:21:05.632095Z",
     "shell.execute_reply": "2025-05-03T17:21:05.631424Z",
     "shell.execute_reply.started": "2025-05-03T17:20:57.094444Z"
    },
    "trusted": true
   },
   "outputs": [
    {
     "name": "stdout",
     "output_type": "stream",
     "text": [
      "Length of Text Chunks:  311011\n"
     ]
    }
   ],
   "source": [
    "def create_chunks(extracted_data):\n",
    "    text_splitter=RecursiveCharacterTextSplitter(chunk_size=500,\n",
    "                                                 chunk_overlap=50)\n",
    "    text_chunks=text_splitter.split_documents(extracted_data)\n",
    "    return text_chunks\n",
    "text_chunks=create_chunks(extracted_data=documents)\n",
    "print(\"Length of Text Chunks: \", len(text_chunks))\n"
   ]
  },
  {
   "cell_type": "code",
   "execution_count": 12,
   "id": "5ffcece6",
   "metadata": {
    "execution": {
     "iopub.execute_input": "2025-05-03T17:28:51.213561Z",
     "iopub.status.busy": "2025-05-03T17:28:51.213021Z",
     "iopub.status.idle": "2025-05-03T17:28:52.234878Z",
     "shell.execute_reply": "2025-05-03T17:28:52.234336Z",
     "shell.execute_reply.started": "2025-05-03T17:28:51.213537Z"
    },
    "trusted": true
   },
   "outputs": [],
   "source": [
    "def get_embedding_model():\n",
    "    embedding_model=HuggingFaceEmbeddings(model_name=\"sentence-transformers/all-MiniLM-L6-v2\")\n",
    "    return embedding_model\n",
    "\n",
    "embedding_model=get_embedding_model()"
   ]
  },
  {
   "cell_type": "code",
   "execution_count": 9,
   "id": "5aa9820d",
   "metadata": {
    "execution": {
     "iopub.execute_input": "2025-05-03T17:21:36.894827Z",
     "iopub.status.busy": "2025-05-03T17:21:36.894536Z",
     "iopub.status.idle": "2025-05-03T17:28:02.107141Z",
     "shell.execute_reply": "2025-05-03T17:28:02.106541Z",
     "shell.execute_reply.started": "2025-05-03T17:21:36.894799Z"
    },
    "trusted": true
   },
   "outputs": [],
   "source": [
    "DB_FAISS_PATH=\"VectorDatabase/db_faiss\"\n",
    "db=FAISS.from_documents(text_chunks, embedding_model)\n",
    "db.save_local(DB_FAISS_PATH)"
   ]
  }
 ],
 "metadata": {
  "kaggle": {
   "accelerator": "gpu",
   "dataSources": [
    {
     "datasetId": 7194139,
     "sourceId": 11478399,
     "sourceType": "datasetVersion"
    },
    {
     "datasetId": 7301476,
     "sourceId": 11636860,
     "sourceType": "datasetVersion"
    }
   ],
   "dockerImageVersionId": 31012,
   "isGpuEnabled": true,
   "isInternetEnabled": true,
   "language": "python",
   "sourceType": "notebook"
  },
  "kernelspec": {
   "display_name": "Python 3",
   "language": "python",
   "name": "python3"
  },
  "language_info": {
   "codemirror_mode": {
    "name": "ipython",
    "version": 3
   },
   "file_extension": ".py",
   "mimetype": "text/x-python",
   "name": "python",
   "nbconvert_exporter": "python",
   "pygments_lexer": "ipython3",
   "version": "3.11.11"
  }
 },
 "nbformat": 4,
 "nbformat_minor": 5
}
